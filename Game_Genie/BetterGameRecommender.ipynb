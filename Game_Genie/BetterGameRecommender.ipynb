{
 "cells": [
  {
   "cell_type": "code",
   "execution_count": 2,
   "metadata": {},
   "outputs": [],
   "source": [
    "import pandas as pd\n",
    "import numpy as np\n",
    "import matplotlib.pyplot as plt\n",
    "import sklearn\n",
    "import seaborn as sns"
   ]
  },
  {
   "cell_type": "code",
   "execution_count": 3,
   "metadata": {},
   "outputs": [],
   "source": [
    "df = pd.read_csv('big_rawg_games_data.csv')"
   ]
  },
  {
   "cell_type": "code",
   "execution_count": 4,
   "metadata": {},
   "outputs": [
    {
     "data": {
      "text/html": [
       "<div>\n",
       "<style scoped>\n",
       "    .dataframe tbody tr th:only-of-type {\n",
       "        vertical-align: middle;\n",
       "    }\n",
       "\n",
       "    .dataframe tbody tr th {\n",
       "        vertical-align: top;\n",
       "    }\n",
       "\n",
       "    .dataframe thead th {\n",
       "        text-align: right;\n",
       "    }\n",
       "</style>\n",
       "<table border=\"1\" class=\"dataframe\">\n",
       "  <thead>\n",
       "    <tr style=\"text-align: right;\">\n",
       "      <th></th>\n",
       "      <th>id</th>\n",
       "      <th>name</th>\n",
       "      <th>released</th>\n",
       "      <th>rating</th>\n",
       "      <th>genres</th>\n",
       "      <th>platforms</th>\n",
       "      <th>tags</th>\n",
       "      <th>metacritic</th>\n",
       "      <th>developers</th>\n",
       "      <th>publishers</th>\n",
       "      <th>playtime</th>\n",
       "      <th>description</th>\n",
       "    </tr>\n",
       "  </thead>\n",
       "  <tbody>\n",
       "    <tr>\n",
       "      <th>0</th>\n",
       "      <td>25097</td>\n",
       "      <td>The Legend of Zelda: Ocarina of Time</td>\n",
       "      <td>1998-11-21</td>\n",
       "      <td>4.38</td>\n",
       "      <td>Action, Adventure, RPG</td>\n",
       "      <td>Nintendo Switch, Nintendo 64</td>\n",
       "      <td>Singleplayer</td>\n",
       "      <td>99.0</td>\n",
       "      <td>Nintendo</td>\n",
       "      <td>Nintendo</td>\n",
       "      <td>7</td>\n",
       "      <td>As a young boy, Link is tricked by Ganondorf, ...</td>\n",
       "    </tr>\n",
       "    <tr>\n",
       "      <th>1</th>\n",
       "      <td>54751</td>\n",
       "      <td>Soulcalibur</td>\n",
       "      <td>1998-07-30</td>\n",
       "      <td>4.37</td>\n",
       "      <td>Action, Fighting</td>\n",
       "      <td>Xbox One, iOS, Xbox 360, Android, Dreamcast</td>\n",
       "      <td>2 players</td>\n",
       "      <td>98.0</td>\n",
       "      <td>BANDAI NAMCO Entertainment America, NAMCO, Pro...</td>\n",
       "      <td>Bandai Namco Entertainment, Namco</td>\n",
       "      <td>6</td>\n",
       "      <td>Soulcalibur (ソウルキャリバー, Sōrukyaribā) is a weapo...</td>\n",
       "    </tr>\n",
       "    <tr>\n",
       "      <th>2</th>\n",
       "      <td>407559</td>\n",
       "      <td>Soulcalibur (1998)</td>\n",
       "      <td>1998-07-30</td>\n",
       "      <td>0.00</td>\n",
       "      <td>Fighting</td>\n",
       "      <td>Dreamcast, Xbox 360</td>\n",
       "      <td>NaN</td>\n",
       "      <td>98.0</td>\n",
       "      <td>NaN</td>\n",
       "      <td>Bandai Namco Entertainment, Namco</td>\n",
       "      <td>0</td>\n",
       "      <td>The sequel to Soul Edge arrived in video arcad...</td>\n",
       "    </tr>\n",
       "    <tr>\n",
       "      <th>3</th>\n",
       "      <td>27036</td>\n",
       "      <td>Super Mario Galaxy 2</td>\n",
       "      <td>2010-05-23</td>\n",
       "      <td>4.34</td>\n",
       "      <td>Platformer</td>\n",
       "      <td>Wii, Wii U</td>\n",
       "      <td>collect, Solo, galaxy, light, castle, Gravity,...</td>\n",
       "      <td>97.0</td>\n",
       "      <td>Nintendo</td>\n",
       "      <td>Nintendo</td>\n",
       "      <td>18</td>\n",
       "      <td>Mario is invited to Princess Peach's castle, a...</td>\n",
       "    </tr>\n",
       "    <tr>\n",
       "      <th>4</th>\n",
       "      <td>324997</td>\n",
       "      <td>Baldur's Gate III</td>\n",
       "      <td>2023-08-03</td>\n",
       "      <td>4.47</td>\n",
       "      <td>Adventure, RPG, Strategy</td>\n",
       "      <td>macOS, PC, Xbox Series S/X, PlayStation 5</td>\n",
       "      <td>Singleplayer, Steam Achievements, Multiplayer,...</td>\n",
       "      <td>97.0</td>\n",
       "      <td>Larian Studios</td>\n",
       "      <td>Larian Studios</td>\n",
       "      <td>19</td>\n",
       "      <td>Gather your party, and return to the Forgotten...</td>\n",
       "    </tr>\n",
       "  </tbody>\n",
       "</table>\n",
       "</div>"
      ],
      "text/plain": [
       "       id                                  name    released  rating  \\\n",
       "0   25097  The Legend of Zelda: Ocarina of Time  1998-11-21    4.38   \n",
       "1   54751                           Soulcalibur  1998-07-30    4.37   \n",
       "2  407559                    Soulcalibur (1998)  1998-07-30    0.00   \n",
       "3   27036                  Super Mario Galaxy 2  2010-05-23    4.34   \n",
       "4  324997                     Baldur's Gate III  2023-08-03    4.47   \n",
       "\n",
       "                     genres                                    platforms  \\\n",
       "0    Action, Adventure, RPG                 Nintendo Switch, Nintendo 64   \n",
       "1          Action, Fighting  Xbox One, iOS, Xbox 360, Android, Dreamcast   \n",
       "2                  Fighting                          Dreamcast, Xbox 360   \n",
       "3                Platformer                                   Wii, Wii U   \n",
       "4  Adventure, RPG, Strategy    macOS, PC, Xbox Series S/X, PlayStation 5   \n",
       "\n",
       "                                                tags  metacritic  \\\n",
       "0                                       Singleplayer        99.0   \n",
       "1                                          2 players        98.0   \n",
       "2                                                NaN        98.0   \n",
       "3  collect, Solo, galaxy, light, castle, Gravity,...        97.0   \n",
       "4  Singleplayer, Steam Achievements, Multiplayer,...        97.0   \n",
       "\n",
       "                                          developers  \\\n",
       "0                                           Nintendo   \n",
       "1  BANDAI NAMCO Entertainment America, NAMCO, Pro...   \n",
       "2                                                NaN   \n",
       "3                                           Nintendo   \n",
       "4                                     Larian Studios   \n",
       "\n",
       "                          publishers  playtime  \\\n",
       "0                           Nintendo         7   \n",
       "1  Bandai Namco Entertainment, Namco         6   \n",
       "2  Bandai Namco Entertainment, Namco         0   \n",
       "3                           Nintendo        18   \n",
       "4                     Larian Studios        19   \n",
       "\n",
       "                                         description  \n",
       "0  As a young boy, Link is tricked by Ganondorf, ...  \n",
       "1  Soulcalibur (ソウルキャリバー, Sōrukyaribā) is a weapo...  \n",
       "2  The sequel to Soul Edge arrived in video arcad...  \n",
       "3  Mario is invited to Princess Peach's castle, a...  \n",
       "4  Gather your party, and return to the Forgotten...  "
      ]
     },
     "execution_count": 4,
     "metadata": {},
     "output_type": "execute_result"
    }
   ],
   "source": [
    "df.head()"
   ]
  },
  {
   "cell_type": "code",
   "execution_count": 5,
   "metadata": {},
   "outputs": [],
   "source": [
    "df = df[['id','name','rating','genres','platforms','tags','publishers','description']]"
   ]
  },
  {
   "cell_type": "code",
   "execution_count": 6,
   "metadata": {},
   "outputs": [
    {
     "data": {
      "text/plain": [
       "id                  0\n",
       "name                3\n",
       "rating              0\n",
       "genres         213393\n",
       "platforms        4162\n",
       "tags            98153\n",
       "publishers     669138\n",
       "description     83533\n",
       "dtype: int64"
      ]
     },
     "execution_count": 6,
     "metadata": {},
     "output_type": "execute_result"
    }
   ],
   "source": [
    "\n",
    "df.isnull().sum()\n"
   ]
  },
  {
   "cell_type": "code",
   "execution_count": 7,
   "metadata": {},
   "outputs": [
    {
     "data": {
      "text/plain": [
       "(881069, 8)"
      ]
     },
     "execution_count": 7,
     "metadata": {},
     "output_type": "execute_result"
    }
   ],
   "source": [
    "df.shape"
   ]
  },
  {
   "cell_type": "code",
   "execution_count": 8,
   "metadata": {},
   "outputs": [],
   "source": [
    "df = df.dropna()"
   ]
  },
  {
   "cell_type": "code",
   "execution_count": 9,
   "metadata": {},
   "outputs": [
    {
     "data": {
      "text/plain": [
       "(180089, 8)"
      ]
     },
     "execution_count": 9,
     "metadata": {},
     "output_type": "execute_result"
    }
   ],
   "source": [
    "df.shape"
   ]
  },
  {
   "cell_type": "code",
   "execution_count": 10,
   "metadata": {},
   "outputs": [],
   "source": [
    "df['platforms'] = df['platforms'].str.split(', ')\n",
    "df['tags'] = df['tags'].str.split(', ')\n",
    "df['publishers'] = df['publishers'].str.split(', ')"
   ]
  },
  {
   "cell_type": "code",
   "execution_count": 11,
   "metadata": {},
   "outputs": [
    {
     "data": {
      "text/html": [
       "<div>\n",
       "<style scoped>\n",
       "    .dataframe tbody tr th:only-of-type {\n",
       "        vertical-align: middle;\n",
       "    }\n",
       "\n",
       "    .dataframe tbody tr th {\n",
       "        vertical-align: top;\n",
       "    }\n",
       "\n",
       "    .dataframe thead th {\n",
       "        text-align: right;\n",
       "    }\n",
       "</style>\n",
       "<table border=\"1\" class=\"dataframe\">\n",
       "  <thead>\n",
       "    <tr style=\"text-align: right;\">\n",
       "      <th></th>\n",
       "      <th>id</th>\n",
       "      <th>name</th>\n",
       "      <th>rating</th>\n",
       "      <th>genres</th>\n",
       "      <th>platforms</th>\n",
       "      <th>tags</th>\n",
       "      <th>publishers</th>\n",
       "      <th>description</th>\n",
       "    </tr>\n",
       "  </thead>\n",
       "  <tbody>\n",
       "    <tr>\n",
       "      <th>0</th>\n",
       "      <td>25097</td>\n",
       "      <td>The Legend of Zelda: Ocarina of Time</td>\n",
       "      <td>4.38</td>\n",
       "      <td>Action, Adventure, RPG</td>\n",
       "      <td>[Nintendo Switch, Nintendo 64]</td>\n",
       "      <td>[Singleplayer]</td>\n",
       "      <td>[Nintendo]</td>\n",
       "      <td>As a young boy, Link is tricked by Ganondorf, ...</td>\n",
       "    </tr>\n",
       "    <tr>\n",
       "      <th>1</th>\n",
       "      <td>54751</td>\n",
       "      <td>Soulcalibur</td>\n",
       "      <td>4.37</td>\n",
       "      <td>Action, Fighting</td>\n",
       "      <td>[Xbox One, iOS, Xbox 360, Android, Dreamcast]</td>\n",
       "      <td>[2 players]</td>\n",
       "      <td>[Bandai Namco Entertainment, Namco]</td>\n",
       "      <td>Soulcalibur (ソウルキャリバー, Sōrukyaribā) is a weapo...</td>\n",
       "    </tr>\n",
       "    <tr>\n",
       "      <th>3</th>\n",
       "      <td>27036</td>\n",
       "      <td>Super Mario Galaxy 2</td>\n",
       "      <td>4.34</td>\n",
       "      <td>Platformer</td>\n",
       "      <td>[Wii, Wii U]</td>\n",
       "      <td>[collect, Solo, galaxy, light, castle, Gravity...</td>\n",
       "      <td>[Nintendo]</td>\n",
       "      <td>Mario is invited to Princess Peach's castle, a...</td>\n",
       "    </tr>\n",
       "    <tr>\n",
       "      <th>4</th>\n",
       "      <td>324997</td>\n",
       "      <td>Baldur's Gate III</td>\n",
       "      <td>4.47</td>\n",
       "      <td>Adventure, RPG, Strategy</td>\n",
       "      <td>[macOS, PC, Xbox Series S/X, PlayStation 5]</td>\n",
       "      <td>[Singleplayer, Steam Achievements, Multiplayer...</td>\n",
       "      <td>[Larian Studios]</td>\n",
       "      <td>Gather your party, and return to the Forgotten...</td>\n",
       "    </tr>\n",
       "    <tr>\n",
       "      <th>5</th>\n",
       "      <td>22511</td>\n",
       "      <td>The Legend of Zelda: Breath of the Wild</td>\n",
       "      <td>4.50</td>\n",
       "      <td>Action, Adventure, RPG</td>\n",
       "      <td>[Nintendo Switch, Wii U]</td>\n",
       "      <td>[RPG, Open World, Sandbox, Action-Adventure, e...</td>\n",
       "      <td>[Nintendo]</td>\n",
       "      <td>The Legend of Zelda: Breath of the Wild is an ...</td>\n",
       "    </tr>\n",
       "  </tbody>\n",
       "</table>\n",
       "</div>"
      ],
      "text/plain": [
       "       id                                     name  rating  \\\n",
       "0   25097     The Legend of Zelda: Ocarina of Time    4.38   \n",
       "1   54751                              Soulcalibur    4.37   \n",
       "3   27036                     Super Mario Galaxy 2    4.34   \n",
       "4  324997                        Baldur's Gate III    4.47   \n",
       "5   22511  The Legend of Zelda: Breath of the Wild    4.50   \n",
       "\n",
       "                     genres                                      platforms  \\\n",
       "0    Action, Adventure, RPG                 [Nintendo Switch, Nintendo 64]   \n",
       "1          Action, Fighting  [Xbox One, iOS, Xbox 360, Android, Dreamcast]   \n",
       "3                Platformer                                   [Wii, Wii U]   \n",
       "4  Adventure, RPG, Strategy    [macOS, PC, Xbox Series S/X, PlayStation 5]   \n",
       "5    Action, Adventure, RPG                       [Nintendo Switch, Wii U]   \n",
       "\n",
       "                                                tags  \\\n",
       "0                                     [Singleplayer]   \n",
       "1                                        [2 players]   \n",
       "3  [collect, Solo, galaxy, light, castle, Gravity...   \n",
       "4  [Singleplayer, Steam Achievements, Multiplayer...   \n",
       "5  [RPG, Open World, Sandbox, Action-Adventure, e...   \n",
       "\n",
       "                            publishers  \\\n",
       "0                           [Nintendo]   \n",
       "1  [Bandai Namco Entertainment, Namco]   \n",
       "3                           [Nintendo]   \n",
       "4                     [Larian Studios]   \n",
       "5                           [Nintendo]   \n",
       "\n",
       "                                         description  \n",
       "0  As a young boy, Link is tricked by Ganondorf, ...  \n",
       "1  Soulcalibur (ソウルキャリバー, Sōrukyaribā) is a weapo...  \n",
       "3  Mario is invited to Princess Peach's castle, a...  \n",
       "4  Gather your party, and return to the Forgotten...  \n",
       "5  The Legend of Zelda: Breath of the Wild is an ...  "
      ]
     },
     "execution_count": 11,
     "metadata": {},
     "output_type": "execute_result"
    }
   ],
   "source": [
    "df.head()"
   ]
  },
  {
   "cell_type": "code",
   "execution_count": 12,
   "metadata": {},
   "outputs": [
    {
     "name": "stdout",
     "output_type": "stream",
     "text": [
      "0      Action, Adventure, RPG\n",
      "1            Action, Fighting\n",
      "3                  Platformer\n",
      "4    Adventure, RPG, Strategy\n",
      "5      Action, Adventure, RPG\n",
      "Name: genres, dtype: object\n"
     ]
    },
    {
     "data": {
      "text/html": [
       "<div>\n",
       "<style scoped>\n",
       "    .dataframe tbody tr th:only-of-type {\n",
       "        vertical-align: middle;\n",
       "    }\n",
       "\n",
       "    .dataframe tbody tr th {\n",
       "        vertical-align: top;\n",
       "    }\n",
       "\n",
       "    .dataframe thead th {\n",
       "        text-align: right;\n",
       "    }\n",
       "</style>\n",
       "<table border=\"1\" class=\"dataframe\">\n",
       "  <thead>\n",
       "    <tr style=\"text-align: right;\">\n",
       "      <th></th>\n",
       "      <th>id</th>\n",
       "      <th>name</th>\n",
       "      <th>rating</th>\n",
       "      <th>genres</th>\n",
       "      <th>platforms</th>\n",
       "      <th>tags</th>\n",
       "      <th>publishers</th>\n",
       "      <th>description</th>\n",
       "    </tr>\n",
       "  </thead>\n",
       "  <tbody>\n",
       "    <tr>\n",
       "      <th>0</th>\n",
       "      <td>25097</td>\n",
       "      <td>The Legend of Zelda: Ocarina of Time</td>\n",
       "      <td>4.38</td>\n",
       "      <td>[Action, Adventure, RPG]</td>\n",
       "      <td>[Nintendo Switch, Nintendo 64]</td>\n",
       "      <td>[Singleplayer]</td>\n",
       "      <td>[Nintendo]</td>\n",
       "      <td>As a young boy, Link is tricked by Ganondorf, ...</td>\n",
       "    </tr>\n",
       "    <tr>\n",
       "      <th>1</th>\n",
       "      <td>54751</td>\n",
       "      <td>Soulcalibur</td>\n",
       "      <td>4.37</td>\n",
       "      <td>[Action, Fighting]</td>\n",
       "      <td>[Xbox One, iOS, Xbox 360, Android, Dreamcast]</td>\n",
       "      <td>[2 players]</td>\n",
       "      <td>[Bandai Namco Entertainment, Namco]</td>\n",
       "      <td>Soulcalibur (ソウルキャリバー, Sōrukyaribā) is a weapo...</td>\n",
       "    </tr>\n",
       "    <tr>\n",
       "      <th>3</th>\n",
       "      <td>27036</td>\n",
       "      <td>Super Mario Galaxy 2</td>\n",
       "      <td>4.34</td>\n",
       "      <td>[Platformer]</td>\n",
       "      <td>[Wii, Wii U]</td>\n",
       "      <td>[collect, Solo, galaxy, light, castle, Gravity...</td>\n",
       "      <td>[Nintendo]</td>\n",
       "      <td>Mario is invited to Princess Peach's castle, a...</td>\n",
       "    </tr>\n",
       "    <tr>\n",
       "      <th>4</th>\n",
       "      <td>324997</td>\n",
       "      <td>Baldur's Gate III</td>\n",
       "      <td>4.47</td>\n",
       "      <td>[Adventure, RPG, Strategy]</td>\n",
       "      <td>[macOS, PC, Xbox Series S/X, PlayStation 5]</td>\n",
       "      <td>[Singleplayer, Steam Achievements, Multiplayer...</td>\n",
       "      <td>[Larian Studios]</td>\n",
       "      <td>Gather your party, and return to the Forgotten...</td>\n",
       "    </tr>\n",
       "    <tr>\n",
       "      <th>5</th>\n",
       "      <td>22511</td>\n",
       "      <td>The Legend of Zelda: Breath of the Wild</td>\n",
       "      <td>4.50</td>\n",
       "      <td>[Action, Adventure, RPG]</td>\n",
       "      <td>[Nintendo Switch, Wii U]</td>\n",
       "      <td>[RPG, Open World, Sandbox, Action-Adventure, e...</td>\n",
       "      <td>[Nintendo]</td>\n",
       "      <td>The Legend of Zelda: Breath of the Wild is an ...</td>\n",
       "    </tr>\n",
       "  </tbody>\n",
       "</table>\n",
       "</div>"
      ],
      "text/plain": [
       "       id                                     name  rating  \\\n",
       "0   25097     The Legend of Zelda: Ocarina of Time    4.38   \n",
       "1   54751                              Soulcalibur    4.37   \n",
       "3   27036                     Super Mario Galaxy 2    4.34   \n",
       "4  324997                        Baldur's Gate III    4.47   \n",
       "5   22511  The Legend of Zelda: Breath of the Wild    4.50   \n",
       "\n",
       "                       genres                                      platforms  \\\n",
       "0    [Action, Adventure, RPG]                 [Nintendo Switch, Nintendo 64]   \n",
       "1          [Action, Fighting]  [Xbox One, iOS, Xbox 360, Android, Dreamcast]   \n",
       "3                [Platformer]                                   [Wii, Wii U]   \n",
       "4  [Adventure, RPG, Strategy]    [macOS, PC, Xbox Series S/X, PlayStation 5]   \n",
       "5    [Action, Adventure, RPG]                       [Nintendo Switch, Wii U]   \n",
       "\n",
       "                                                tags  \\\n",
       "0                                     [Singleplayer]   \n",
       "1                                        [2 players]   \n",
       "3  [collect, Solo, galaxy, light, castle, Gravity...   \n",
       "4  [Singleplayer, Steam Achievements, Multiplayer...   \n",
       "5  [RPG, Open World, Sandbox, Action-Adventure, e...   \n",
       "\n",
       "                            publishers  \\\n",
       "0                           [Nintendo]   \n",
       "1  [Bandai Namco Entertainment, Namco]   \n",
       "3                           [Nintendo]   \n",
       "4                     [Larian Studios]   \n",
       "5                           [Nintendo]   \n",
       "\n",
       "                                         description  \n",
       "0  As a young boy, Link is tricked by Ganondorf, ...  \n",
       "1  Soulcalibur (ソウルキャリバー, Sōrukyaribā) is a weapo...  \n",
       "3  Mario is invited to Princess Peach's castle, a...  \n",
       "4  Gather your party, and return to the Forgotten...  \n",
       "5  The Legend of Zelda: Breath of the Wild is an ...  "
      ]
     },
     "execution_count": 12,
     "metadata": {},
     "output_type": "execute_result"
    }
   ],
   "source": [
    "# Fill NaN values with an empty string\n",
    "df['genres'] = df['genres'].fillna('')\n",
    "\n",
    "# Check the result\n",
    "print(df['genres'].head())\n",
    "\n",
    "# Split the 'genres' column into lists\n",
    "df['genres'] = df['genres'].str.split(', ')\n",
    "\n",
    "df.head()"
   ]
  },
  {
   "cell_type": "code",
   "execution_count": 13,
   "metadata": {},
   "outputs": [],
   "source": [
    "df['description'] = df['description'].apply(lambda x:x.split())"
   ]
  },
  {
   "cell_type": "code",
   "execution_count": 14,
   "metadata": {},
   "outputs": [
    {
     "data": {
      "text/html": [
       "<div>\n",
       "<style scoped>\n",
       "    .dataframe tbody tr th:only-of-type {\n",
       "        vertical-align: middle;\n",
       "    }\n",
       "\n",
       "    .dataframe tbody tr th {\n",
       "        vertical-align: top;\n",
       "    }\n",
       "\n",
       "    .dataframe thead th {\n",
       "        text-align: right;\n",
       "    }\n",
       "</style>\n",
       "<table border=\"1\" class=\"dataframe\">\n",
       "  <thead>\n",
       "    <tr style=\"text-align: right;\">\n",
       "      <th></th>\n",
       "      <th>id</th>\n",
       "      <th>name</th>\n",
       "      <th>rating</th>\n",
       "      <th>genres</th>\n",
       "      <th>platforms</th>\n",
       "      <th>tags</th>\n",
       "      <th>publishers</th>\n",
       "      <th>description</th>\n",
       "    </tr>\n",
       "  </thead>\n",
       "  <tbody>\n",
       "    <tr>\n",
       "      <th>0</th>\n",
       "      <td>25097</td>\n",
       "      <td>The Legend of Zelda: Ocarina of Time</td>\n",
       "      <td>4.38</td>\n",
       "      <td>[Action, Adventure, RPG]</td>\n",
       "      <td>[Nintendo Switch, Nintendo 64]</td>\n",
       "      <td>[Singleplayer]</td>\n",
       "      <td>[Nintendo]</td>\n",
       "      <td>[As, a, young, boy,, Link, is, tricked, by, Ga...</td>\n",
       "    </tr>\n",
       "    <tr>\n",
       "      <th>1</th>\n",
       "      <td>54751</td>\n",
       "      <td>Soulcalibur</td>\n",
       "      <td>4.37</td>\n",
       "      <td>[Action, Fighting]</td>\n",
       "      <td>[Xbox One, iOS, Xbox 360, Android, Dreamcast]</td>\n",
       "      <td>[2 players]</td>\n",
       "      <td>[Bandai Namco Entertainment, Namco]</td>\n",
       "      <td>[Soulcalibur, (ソウルキャリバー,, Sōrukyaribā), is, a,...</td>\n",
       "    </tr>\n",
       "    <tr>\n",
       "      <th>3</th>\n",
       "      <td>27036</td>\n",
       "      <td>Super Mario Galaxy 2</td>\n",
       "      <td>4.34</td>\n",
       "      <td>[Platformer]</td>\n",
       "      <td>[Wii, Wii U]</td>\n",
       "      <td>[collect, Solo, galaxy, light, castle, Gravity...</td>\n",
       "      <td>[Nintendo]</td>\n",
       "      <td>[Mario, is, invited, to, Princess, Peach's, ca...</td>\n",
       "    </tr>\n",
       "    <tr>\n",
       "      <th>4</th>\n",
       "      <td>324997</td>\n",
       "      <td>Baldur's Gate III</td>\n",
       "      <td>4.47</td>\n",
       "      <td>[Adventure, RPG, Strategy]</td>\n",
       "      <td>[macOS, PC, Xbox Series S/X, PlayStation 5]</td>\n",
       "      <td>[Singleplayer, Steam Achievements, Multiplayer...</td>\n",
       "      <td>[Larian Studios]</td>\n",
       "      <td>[Gather, your, party,, and, return, to, the, F...</td>\n",
       "    </tr>\n",
       "    <tr>\n",
       "      <th>5</th>\n",
       "      <td>22511</td>\n",
       "      <td>The Legend of Zelda: Breath of the Wild</td>\n",
       "      <td>4.50</td>\n",
       "      <td>[Action, Adventure, RPG]</td>\n",
       "      <td>[Nintendo Switch, Wii U]</td>\n",
       "      <td>[RPG, Open World, Sandbox, Action-Adventure, e...</td>\n",
       "      <td>[Nintendo]</td>\n",
       "      <td>[The, Legend, of, Zelda:, Breath, of, the, Wil...</td>\n",
       "    </tr>\n",
       "  </tbody>\n",
       "</table>\n",
       "</div>"
      ],
      "text/plain": [
       "       id                                     name  rating  \\\n",
       "0   25097     The Legend of Zelda: Ocarina of Time    4.38   \n",
       "1   54751                              Soulcalibur    4.37   \n",
       "3   27036                     Super Mario Galaxy 2    4.34   \n",
       "4  324997                        Baldur's Gate III    4.47   \n",
       "5   22511  The Legend of Zelda: Breath of the Wild    4.50   \n",
       "\n",
       "                       genres                                      platforms  \\\n",
       "0    [Action, Adventure, RPG]                 [Nintendo Switch, Nintendo 64]   \n",
       "1          [Action, Fighting]  [Xbox One, iOS, Xbox 360, Android, Dreamcast]   \n",
       "3                [Platformer]                                   [Wii, Wii U]   \n",
       "4  [Adventure, RPG, Strategy]    [macOS, PC, Xbox Series S/X, PlayStation 5]   \n",
       "5    [Action, Adventure, RPG]                       [Nintendo Switch, Wii U]   \n",
       "\n",
       "                                                tags  \\\n",
       "0                                     [Singleplayer]   \n",
       "1                                        [2 players]   \n",
       "3  [collect, Solo, galaxy, light, castle, Gravity...   \n",
       "4  [Singleplayer, Steam Achievements, Multiplayer...   \n",
       "5  [RPG, Open World, Sandbox, Action-Adventure, e...   \n",
       "\n",
       "                            publishers  \\\n",
       "0                           [Nintendo]   \n",
       "1  [Bandai Namco Entertainment, Namco]   \n",
       "3                           [Nintendo]   \n",
       "4                     [Larian Studios]   \n",
       "5                           [Nintendo]   \n",
       "\n",
       "                                         description  \n",
       "0  [As, a, young, boy,, Link, is, tricked, by, Ga...  \n",
       "1  [Soulcalibur, (ソウルキャリバー,, Sōrukyaribā), is, a,...  \n",
       "3  [Mario, is, invited, to, Princess, Peach's, ca...  \n",
       "4  [Gather, your, party,, and, return, to, the, F...  \n",
       "5  [The, Legend, of, Zelda:, Breath, of, the, Wil...  "
      ]
     },
     "execution_count": 14,
     "metadata": {},
     "output_type": "execute_result"
    }
   ],
   "source": [
    "df.head()"
   ]
  },
  {
   "cell_type": "code",
   "execution_count": 15,
   "metadata": {},
   "outputs": [],
   "source": [
    "df['game_tags'] = df['description'] + df['genres'] + df['platforms'] + df['tags']  + df['publishers'] "
   ]
  },
  {
   "cell_type": "code",
   "execution_count": 16,
   "metadata": {},
   "outputs": [
    {
     "data": {
      "text/html": [
       "<div>\n",
       "<style scoped>\n",
       "    .dataframe tbody tr th:only-of-type {\n",
       "        vertical-align: middle;\n",
       "    }\n",
       "\n",
       "    .dataframe tbody tr th {\n",
       "        vertical-align: top;\n",
       "    }\n",
       "\n",
       "    .dataframe thead th {\n",
       "        text-align: right;\n",
       "    }\n",
       "</style>\n",
       "<table border=\"1\" class=\"dataframe\">\n",
       "  <thead>\n",
       "    <tr style=\"text-align: right;\">\n",
       "      <th></th>\n",
       "      <th>id</th>\n",
       "      <th>name</th>\n",
       "      <th>rating</th>\n",
       "      <th>genres</th>\n",
       "      <th>platforms</th>\n",
       "      <th>tags</th>\n",
       "      <th>publishers</th>\n",
       "      <th>description</th>\n",
       "      <th>game_tags</th>\n",
       "    </tr>\n",
       "  </thead>\n",
       "  <tbody>\n",
       "    <tr>\n",
       "      <th>0</th>\n",
       "      <td>25097</td>\n",
       "      <td>The Legend of Zelda: Ocarina of Time</td>\n",
       "      <td>4.38</td>\n",
       "      <td>[Action, Adventure, RPG]</td>\n",
       "      <td>[Nintendo Switch, Nintendo 64]</td>\n",
       "      <td>[Singleplayer]</td>\n",
       "      <td>[Nintendo]</td>\n",
       "      <td>[As, a, young, boy,, Link, is, tricked, by, Ga...</td>\n",
       "      <td>[As, a, young, boy,, Link, is, tricked, by, Ga...</td>\n",
       "    </tr>\n",
       "    <tr>\n",
       "      <th>1</th>\n",
       "      <td>54751</td>\n",
       "      <td>Soulcalibur</td>\n",
       "      <td>4.37</td>\n",
       "      <td>[Action, Fighting]</td>\n",
       "      <td>[Xbox One, iOS, Xbox 360, Android, Dreamcast]</td>\n",
       "      <td>[2 players]</td>\n",
       "      <td>[Bandai Namco Entertainment, Namco]</td>\n",
       "      <td>[Soulcalibur, (ソウルキャリバー,, Sōrukyaribā), is, a,...</td>\n",
       "      <td>[Soulcalibur, (ソウルキャリバー,, Sōrukyaribā), is, a,...</td>\n",
       "    </tr>\n",
       "    <tr>\n",
       "      <th>3</th>\n",
       "      <td>27036</td>\n",
       "      <td>Super Mario Galaxy 2</td>\n",
       "      <td>4.34</td>\n",
       "      <td>[Platformer]</td>\n",
       "      <td>[Wii, Wii U]</td>\n",
       "      <td>[collect, Solo, galaxy, light, castle, Gravity...</td>\n",
       "      <td>[Nintendo]</td>\n",
       "      <td>[Mario, is, invited, to, Princess, Peach's, ca...</td>\n",
       "      <td>[Mario, is, invited, to, Princess, Peach's, ca...</td>\n",
       "    </tr>\n",
       "    <tr>\n",
       "      <th>4</th>\n",
       "      <td>324997</td>\n",
       "      <td>Baldur's Gate III</td>\n",
       "      <td>4.47</td>\n",
       "      <td>[Adventure, RPG, Strategy]</td>\n",
       "      <td>[macOS, PC, Xbox Series S/X, PlayStation 5]</td>\n",
       "      <td>[Singleplayer, Steam Achievements, Multiplayer...</td>\n",
       "      <td>[Larian Studios]</td>\n",
       "      <td>[Gather, your, party,, and, return, to, the, F...</td>\n",
       "      <td>[Gather, your, party,, and, return, to, the, F...</td>\n",
       "    </tr>\n",
       "    <tr>\n",
       "      <th>5</th>\n",
       "      <td>22511</td>\n",
       "      <td>The Legend of Zelda: Breath of the Wild</td>\n",
       "      <td>4.50</td>\n",
       "      <td>[Action, Adventure, RPG]</td>\n",
       "      <td>[Nintendo Switch, Wii U]</td>\n",
       "      <td>[RPG, Open World, Sandbox, Action-Adventure, e...</td>\n",
       "      <td>[Nintendo]</td>\n",
       "      <td>[The, Legend, of, Zelda:, Breath, of, the, Wil...</td>\n",
       "      <td>[The, Legend, of, Zelda:, Breath, of, the, Wil...</td>\n",
       "    </tr>\n",
       "  </tbody>\n",
       "</table>\n",
       "</div>"
      ],
      "text/plain": [
       "       id                                     name  rating  \\\n",
       "0   25097     The Legend of Zelda: Ocarina of Time    4.38   \n",
       "1   54751                              Soulcalibur    4.37   \n",
       "3   27036                     Super Mario Galaxy 2    4.34   \n",
       "4  324997                        Baldur's Gate III    4.47   \n",
       "5   22511  The Legend of Zelda: Breath of the Wild    4.50   \n",
       "\n",
       "                       genres                                      platforms  \\\n",
       "0    [Action, Adventure, RPG]                 [Nintendo Switch, Nintendo 64]   \n",
       "1          [Action, Fighting]  [Xbox One, iOS, Xbox 360, Android, Dreamcast]   \n",
       "3                [Platformer]                                   [Wii, Wii U]   \n",
       "4  [Adventure, RPG, Strategy]    [macOS, PC, Xbox Series S/X, PlayStation 5]   \n",
       "5    [Action, Adventure, RPG]                       [Nintendo Switch, Wii U]   \n",
       "\n",
       "                                                tags  \\\n",
       "0                                     [Singleplayer]   \n",
       "1                                        [2 players]   \n",
       "3  [collect, Solo, galaxy, light, castle, Gravity...   \n",
       "4  [Singleplayer, Steam Achievements, Multiplayer...   \n",
       "5  [RPG, Open World, Sandbox, Action-Adventure, e...   \n",
       "\n",
       "                            publishers  \\\n",
       "0                           [Nintendo]   \n",
       "1  [Bandai Namco Entertainment, Namco]   \n",
       "3                           [Nintendo]   \n",
       "4                     [Larian Studios]   \n",
       "5                           [Nintendo]   \n",
       "\n",
       "                                         description  \\\n",
       "0  [As, a, young, boy,, Link, is, tricked, by, Ga...   \n",
       "1  [Soulcalibur, (ソウルキャリバー,, Sōrukyaribā), is, a,...   \n",
       "3  [Mario, is, invited, to, Princess, Peach's, ca...   \n",
       "4  [Gather, your, party,, and, return, to, the, F...   \n",
       "5  [The, Legend, of, Zelda:, Breath, of, the, Wil...   \n",
       "\n",
       "                                           game_tags  \n",
       "0  [As, a, young, boy,, Link, is, tricked, by, Ga...  \n",
       "1  [Soulcalibur, (ソウルキャリバー,, Sōrukyaribā), is, a,...  \n",
       "3  [Mario, is, invited, to, Princess, Peach's, ca...  \n",
       "4  [Gather, your, party,, and, return, to, the, F...  \n",
       "5  [The, Legend, of, Zelda:, Breath, of, the, Wil...  "
      ]
     },
     "execution_count": 16,
     "metadata": {},
     "output_type": "execute_result"
    }
   ],
   "source": [
    "df.head()"
   ]
  },
  {
   "cell_type": "code",
   "execution_count": 17,
   "metadata": {},
   "outputs": [
    {
     "name": "stdout",
     "output_type": "stream",
     "text": [
      "['As', 'a', 'young', 'boy,', 'Link', 'is', 'tricked', 'by', 'Ganondorf,', 'the', 'King', 'of', 'the', 'Gerudo', 'Thieves.', 'The', 'evil', 'human', 'uses', 'Link', 'to', 'gain', 'access', 'to', 'the', 'Sacred', 'Realm,', 'where', 'he', 'places', 'his', 'tainted', 'hands', 'on', 'Triforce', 'and', 'transforms', 'the', 'beautiful', 'Hyrulean', 'landscape', 'into', 'a', 'barren', 'wasteland.', 'Link', 'is', 'determined', 'to', 'fix', 'the', 'problems', 'he', 'helped', 'to', 'create,', 'so', 'with', 'the', 'help', 'of', 'Rauru', 'he', 'travels', 'through', 'time', 'gathering', 'the', 'powers', 'of', 'the', 'Seven', 'Sages.', 'Action', 'Adventure', 'RPG', 'Nintendo Switch', 'Nintendo 64', 'Singleplayer', 'Nintendo']\n"
     ]
    }
   ],
   "source": [
    "new_df = df[['id','name','rating','game_tags']]\n",
    "print(new_df['game_tags'].iloc[0])"
   ]
  },
  {
   "cell_type": "code",
   "execution_count": 18,
   "metadata": {},
   "outputs": [
    {
     "name": "stderr",
     "output_type": "stream",
     "text": [
      "C:\\Users\\hilal\\AppData\\Local\\Temp\\ipykernel_18312\\3261678888.py:1: SettingWithCopyWarning: \n",
      "A value is trying to be set on a copy of a slice from a DataFrame.\n",
      "Try using .loc[row_indexer,col_indexer] = value instead\n",
      "\n",
      "See the caveats in the documentation: https://pandas.pydata.org/pandas-docs/stable/user_guide/indexing.html#returning-a-view-versus-a-copy\n",
      "  new_df['game_tags'] = new_df['game_tags'].apply(lambda x: \" \".join(x))\n"
     ]
    }
   ],
   "source": [
    "new_df['game_tags'] = new_df['game_tags'].apply(lambda x: \" \".join(x))"
   ]
  },
  {
   "cell_type": "code",
   "execution_count": 19,
   "metadata": {},
   "outputs": [
    {
     "name": "stdout",
     "output_type": "stream",
     "text": [
      "As a young boy, Link is tricked by Ganondorf, the King of the Gerudo Thieves. The evil human uses Link to gain access to the Sacred Realm, where he places his tainted hands on Triforce and transforms the beautiful Hyrulean landscape into a barren wasteland. Link is determined to fix the problems he helped to create, so with the help of Rauru he travels through time gathering the powers of the Seven Sages. Action Adventure RPG Nintendo Switch Nintendo 64 Singleplayer Nintendo\n"
     ]
    }
   ],
   "source": [
    "print(new_df['game_tags'].iloc[0])"
   ]
  },
  {
   "cell_type": "code",
   "execution_count": 20,
   "metadata": {},
   "outputs": [
    {
     "name": "stderr",
     "output_type": "stream",
     "text": [
      "C:\\Users\\hilal\\AppData\\Local\\Temp\\ipykernel_18312\\784632826.py:1: SettingWithCopyWarning: \n",
      "A value is trying to be set on a copy of a slice from a DataFrame.\n",
      "Try using .loc[row_indexer,col_indexer] = value instead\n",
      "\n",
      "See the caveats in the documentation: https://pandas.pydata.org/pandas-docs/stable/user_guide/indexing.html#returning-a-view-versus-a-copy\n",
      "  new_df['game_tags'] = new_df['game_tags'].apply(lambda x: \" \".join(map(str, x)).lower() if isinstance(x, (list, tuple)) else str(x).lower())\n"
     ]
    }
   ],
   "source": [
    "new_df['game_tags'] = new_df['game_tags'].apply(lambda x: \" \".join(map(str, x)).lower() if isinstance(x, (list, tuple)) else str(x).lower())"
   ]
  },
  {
   "cell_type": "code",
   "execution_count": 21,
   "metadata": {},
   "outputs": [
    {
     "data": {
      "text/html": [
       "<div>\n",
       "<style scoped>\n",
       "    .dataframe tbody tr th:only-of-type {\n",
       "        vertical-align: middle;\n",
       "    }\n",
       "\n",
       "    .dataframe tbody tr th {\n",
       "        vertical-align: top;\n",
       "    }\n",
       "\n",
       "    .dataframe thead th {\n",
       "        text-align: right;\n",
       "    }\n",
       "</style>\n",
       "<table border=\"1\" class=\"dataframe\">\n",
       "  <thead>\n",
       "    <tr style=\"text-align: right;\">\n",
       "      <th></th>\n",
       "      <th>id</th>\n",
       "      <th>name</th>\n",
       "      <th>rating</th>\n",
       "      <th>game_tags</th>\n",
       "    </tr>\n",
       "  </thead>\n",
       "  <tbody>\n",
       "    <tr>\n",
       "      <th>0</th>\n",
       "      <td>25097</td>\n",
       "      <td>The Legend of Zelda: Ocarina of Time</td>\n",
       "      <td>4.38</td>\n",
       "      <td>as a young boy, link is tricked by ganondorf, ...</td>\n",
       "    </tr>\n",
       "    <tr>\n",
       "      <th>1</th>\n",
       "      <td>54751</td>\n",
       "      <td>Soulcalibur</td>\n",
       "      <td>4.37</td>\n",
       "      <td>soulcalibur (ソウルキャリバー, sōrukyaribā) is a weapo...</td>\n",
       "    </tr>\n",
       "    <tr>\n",
       "      <th>3</th>\n",
       "      <td>27036</td>\n",
       "      <td>Super Mario Galaxy 2</td>\n",
       "      <td>4.34</td>\n",
       "      <td>mario is invited to princess peach's castle, a...</td>\n",
       "    </tr>\n",
       "    <tr>\n",
       "      <th>4</th>\n",
       "      <td>324997</td>\n",
       "      <td>Baldur's Gate III</td>\n",
       "      <td>4.47</td>\n",
       "      <td>gather your party, and return to the forgotten...</td>\n",
       "    </tr>\n",
       "    <tr>\n",
       "      <th>5</th>\n",
       "      <td>22511</td>\n",
       "      <td>The Legend of Zelda: Breath of the Wild</td>\n",
       "      <td>4.50</td>\n",
       "      <td>the legend of zelda: breath of the wild is an ...</td>\n",
       "    </tr>\n",
       "  </tbody>\n",
       "</table>\n",
       "</div>"
      ],
      "text/plain": [
       "       id                                     name  rating  \\\n",
       "0   25097     The Legend of Zelda: Ocarina of Time    4.38   \n",
       "1   54751                              Soulcalibur    4.37   \n",
       "3   27036                     Super Mario Galaxy 2    4.34   \n",
       "4  324997                        Baldur's Gate III    4.47   \n",
       "5   22511  The Legend of Zelda: Breath of the Wild    4.50   \n",
       "\n",
       "                                           game_tags  \n",
       "0  as a young boy, link is tricked by ganondorf, ...  \n",
       "1  soulcalibur (ソウルキャリバー, sōrukyaribā) is a weapo...  \n",
       "3  mario is invited to princess peach's castle, a...  \n",
       "4  gather your party, and return to the forgotten...  \n",
       "5  the legend of zelda: breath of the wild is an ...  "
      ]
     },
     "execution_count": 21,
     "metadata": {},
     "output_type": "execute_result"
    }
   ],
   "source": [
    "new_df.head()"
   ]
  },
  {
   "cell_type": "code",
   "execution_count": 22,
   "metadata": {},
   "outputs": [],
   "source": [
    "import nltk"
   ]
  },
  {
   "cell_type": "code",
   "execution_count": 23,
   "metadata": {},
   "outputs": [],
   "source": [
    "from nltk.stem.porter import PorterStemmer\n",
    "ps =    PorterStemmer()"
   ]
  },
  {
   "cell_type": "code",
   "execution_count": 24,
   "metadata": {},
   "outputs": [],
   "source": [
    "from nltk.stem import PorterStemmer\n",
    "\n",
    "ps = PorterStemmer()\n",
    "\n",
    "def stem(text):\n",
    "    y = []\n",
    "    for i in text.split():\n",
    "        y.append(ps.stem(i))  # Correctly calling append\n",
    "    return \" \".join(y)\n"
   ]
  },
  {
   "cell_type": "code",
   "execution_count": 25,
   "metadata": {},
   "outputs": [],
   "source": [
    "new_df.loc[:, 'game_tags'] = new_df['game_tags'].apply(stem)"
   ]
  },
  {
   "cell_type": "code",
   "execution_count": 26,
   "metadata": {},
   "outputs": [],
   "source": [
    "from sklearn.feature_extraction.text import CountVectorizer\n",
    "cv  = CountVectorizer(max_features=5000,stop_words='english')"
   ]
  },
  {
   "cell_type": "code",
   "execution_count": 27,
   "metadata": {},
   "outputs": [
    {
     "name": "stdout",
     "output_type": "stream",
     "text": [
      "(180089, 5000)\n"
     ]
    }
   ],
   "source": [
    "vector = cv.fit_transform(new_df['game_tags']).toarray()\n",
    "print(vector.shape)"
   ]
  },
  {
   "cell_type": "code",
   "execution_count": 28,
   "metadata": {},
   "outputs": [
    {
     "data": {
      "text/plain": [
       "array(['00', '000', '10', ..., 'файтинг', 'хентай', 'шутер'],\n",
       "      shape=(5000,), dtype=object)"
      ]
     },
     "execution_count": 28,
     "metadata": {},
     "output_type": "execute_result"
    }
   ],
   "source": [
    "cv.get_feature_names_out()"
   ]
  },
  {
   "cell_type": "code",
   "execution_count": 29,
   "metadata": {},
   "outputs": [],
   "source": [
    "import numpy as np\n",
    "from sklearn.metrics.pairwise import cosine_similarity\n",
    "\n",
    "# Reduce dataset to a smaller size (e.g., 10,000 rows)\n",
    "sample_size = 20000\n",
    "indices = np.random.choice(vector.shape[0], sample_size, replace=False)\n",
    "reduced_vector = vector[indices]\n",
    "\n",
    "# Calculate cosine similarity on reduced data\n",
    "similarity = cosine_similarity(reduced_vector)\n"
   ]
  },
  {
   "cell_type": "code",
   "execution_count": 30,
   "metadata": {},
   "outputs": [
    {
     "data": {
      "text/plain": [
       "array([[1.        , 0.07679798, 0.15140524, ..., 0.12814258, 0.1796053 ,\n",
       "        0.10623067],\n",
       "       [0.07679798, 1.        , 0.0758855 , ..., 0.10727871, 0.09773556,\n",
       "        0.07973433],\n",
       "       [0.15140524, 0.0758855 , 1.        , ..., 0.09740003, 0.08873565,\n",
       "        0.07963126],\n",
       "       ...,\n",
       "       [0.12814258, 0.10727871, 0.09740003, ..., 1.        , 0.10976426,\n",
       "        0.10297968],\n",
       "       [0.1796053 , 0.09773556, 0.08873565, ..., 0.10976426, 1.        ,\n",
       "        0.04894902],\n",
       "       [0.10623067, 0.07973433, 0.07963126, ..., 0.10297968, 0.04894902,\n",
       "        1.        ]], shape=(20000, 20000))"
      ]
     },
     "execution_count": 30,
     "metadata": {},
     "output_type": "execute_result"
    }
   ],
   "source": [
    "similarity"
   ]
  },
  {
   "cell_type": "code",
   "execution_count": 31,
   "metadata": {},
   "outputs": [],
   "source": [
    "def recommend(game):\n",
    "    index = new_df[new_df['name'] == game].index[0]\n",
    "    distances = sorted(list(enumerate(similarity[index])),reverse=True,key = lambda x: x[1])\n",
    "    for i in distances[1:6]:\n",
    "        print(new_df.iloc[i[0]]['name'])"
   ]
  },
  {
   "cell_type": "code",
   "execution_count": 32,
   "metadata": {},
   "outputs": [
    {
     "data": {
      "text/html": [
       "<div>\n",
       "<style scoped>\n",
       "    .dataframe tbody tr th:only-of-type {\n",
       "        vertical-align: middle;\n",
       "    }\n",
       "\n",
       "    .dataframe tbody tr th {\n",
       "        vertical-align: top;\n",
       "    }\n",
       "\n",
       "    .dataframe thead th {\n",
       "        text-align: right;\n",
       "    }\n",
       "</style>\n",
       "<table border=\"1\" class=\"dataframe\">\n",
       "  <thead>\n",
       "    <tr style=\"text-align: right;\">\n",
       "      <th></th>\n",
       "      <th>id</th>\n",
       "      <th>name</th>\n",
       "      <th>rating</th>\n",
       "      <th>game_tags</th>\n",
       "    </tr>\n",
       "  </thead>\n",
       "  <tbody>\n",
       "    <tr>\n",
       "      <th>0</th>\n",
       "      <td>25097</td>\n",
       "      <td>The Legend of Zelda: Ocarina of Time</td>\n",
       "      <td>4.38</td>\n",
       "      <td>as a young boy, link is trick by ganondorf, th...</td>\n",
       "    </tr>\n",
       "    <tr>\n",
       "      <th>1</th>\n",
       "      <td>54751</td>\n",
       "      <td>Soulcalibur</td>\n",
       "      <td>4.37</td>\n",
       "      <td>soulcalibur (ソウルキャリバー, sōrukyaribā) is a weapo...</td>\n",
       "    </tr>\n",
       "    <tr>\n",
       "      <th>3</th>\n",
       "      <td>27036</td>\n",
       "      <td>Super Mario Galaxy 2</td>\n",
       "      <td>4.34</td>\n",
       "      <td>mario is invit to princess peach' castle, and ...</td>\n",
       "    </tr>\n",
       "    <tr>\n",
       "      <th>4</th>\n",
       "      <td>324997</td>\n",
       "      <td>Baldur's Gate III</td>\n",
       "      <td>4.47</td>\n",
       "      <td>gather your party, and return to the forgotten...</td>\n",
       "    </tr>\n",
       "    <tr>\n",
       "      <th>5</th>\n",
       "      <td>22511</td>\n",
       "      <td>The Legend of Zelda: Breath of the Wild</td>\n",
       "      <td>4.50</td>\n",
       "      <td>the legend of zelda: breath of the wild is an ...</td>\n",
       "    </tr>\n",
       "  </tbody>\n",
       "</table>\n",
       "</div>"
      ],
      "text/plain": [
       "       id                                     name  rating  \\\n",
       "0   25097     The Legend of Zelda: Ocarina of Time    4.38   \n",
       "1   54751                              Soulcalibur    4.37   \n",
       "3   27036                     Super Mario Galaxy 2    4.34   \n",
       "4  324997                        Baldur's Gate III    4.47   \n",
       "5   22511  The Legend of Zelda: Breath of the Wild    4.50   \n",
       "\n",
       "                                           game_tags  \n",
       "0  as a young boy, link is trick by ganondorf, th...  \n",
       "1  soulcalibur (ソウルキャリバー, sōrukyaribā) is a weapo...  \n",
       "3  mario is invit to princess peach' castle, and ...  \n",
       "4  gather your party, and return to the forgotten...  \n",
       "5  the legend of zelda: breath of the wild is an ...  "
      ]
     },
     "execution_count": 32,
     "metadata": {},
     "output_type": "execute_result"
    }
   ],
   "source": [
    "new_df.head()"
   ]
  },
  {
   "cell_type": "code",
   "execution_count": 33,
   "metadata": {},
   "outputs": [
    {
     "name": "stdout",
     "output_type": "stream",
     "text": [
      "Halloween Horror House VR\n",
      "The Dwarves\n",
      "Hentai Story Purple\n",
      "Russian Cars: Priorik\n",
      "Borderlands 2\n"
     ]
    }
   ],
   "source": [
    "recommend('Super Mario Galaxy 2')"
   ]
  },
  {
   "cell_type": "code",
   "execution_count": 34,
   "metadata": {},
   "outputs": [],
   "source": [
    "import pickle"
   ]
  },
  {
   "cell_type": "code",
   "execution_count": 35,
   "metadata": {},
   "outputs": [],
   "source": [
    "pickle.dump(new_df,open('games_list.pkl','wb'))"
   ]
  },
  {
   "cell_type": "code",
   "execution_count": 36,
   "metadata": {},
   "outputs": [],
   "source": [
    "pickle.dump(similarity,open('similarity.pkl','wb'))"
   ]
  },
  {
   "cell_type": "code",
   "execution_count": null,
   "metadata": {},
   "outputs": [],
   "source": []
  }
 ],
 "metadata": {
  "kernelspec": {
   "display_name": "Python 3",
   "language": "python",
   "name": "python3"
  },
  "language_info": {
   "codemirror_mode": {
    "name": "ipython",
    "version": 3
   },
   "file_extension": ".py",
   "mimetype": "text/x-python",
   "name": "python",
   "nbconvert_exporter": "python",
   "pygments_lexer": "ipython3",
   "version": "3.13.2"
  }
 },
 "nbformat": 4,
 "nbformat_minor": 2
}
